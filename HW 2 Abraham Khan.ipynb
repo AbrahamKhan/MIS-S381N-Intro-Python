{
 "cells": [
  {
   "cell_type": "code",
   "execution_count": 1,
   "metadata": {},
   "outputs": [
    {
     "name": "stdout",
     "output_type": "stream",
     "text": [
      "Populating the interactive namespace from numpy and matplotlib\n"
     ]
    }
   ],
   "source": [
    "import re\n",
    "from pandas import Series, DataFrame\n",
    "import pandas as pd\n",
    "%pylab inline"
   ]
  },
  {
   "cell_type": "code",
   "execution_count": 2,
   "metadata": {},
   "outputs": [],
   "source": [
    "df = pd.read_csv('C:\\Users\\Abraham\\Desktop\\UT\\MSBA\\Python\\HW\\NYC_Restaurants.csv', dtype=unicode)"
   ]
  },
  {
   "cell_type": "markdown",
   "metadata": {},
   "source": [
    "# Q1"
   ]
  },
  {
   "cell_type": "code",
   "execution_count": 3,
   "metadata": {},
   "outputs": [
    {
     "name": "stdout",
     "output_type": "stream",
     "text": [
      "0                    WENDY'S 469 FLATBUSH AVENUE 11225\n",
      "1                    WENDY'S 469 FLATBUSH AVENUE 11225\n",
      "2                    WENDY'S 469 FLATBUSH AVENUE 11225\n",
      "3                    WENDY'S 469 FLATBUSH AVENUE 11225\n",
      "4                    WENDY'S 469 FLATBUSH AVENUE 11225\n",
      "5               TOV KOSHER KITCHEN 97-22 63 ROAD 11374\n",
      "6               TOV KOSHER KITCHEN 97-22 63 ROAD 11374\n",
      "7               TOV KOSHER KITCHEN 97-22 63 ROAD 11374\n",
      "8               TOV KOSHER KITCHEN 97-22 63 ROAD 11374\n",
      "9    BRUNOS ON THE BOULEVARD 8825 ASTORIA BOULEVARD...\n",
      "Name: RESTAURANT, dtype: object\n"
     ]
    }
   ],
   "source": [
    "#Combine four columns into one new column, separated by spaces\n",
    "df['RESTAURANT'] = df['DBA'] + ' ' + df['BUILDING'] + ' ' + df['STREET'] + ' ' + df['ZIPCODE']\n",
    "\n",
    "#Print first 10 rows of the new column\n",
    "print df.loc[:9,'RESTAURANT']"
   ]
  },
  {
   "cell_type": "markdown",
   "metadata": {},
   "source": [
    "# Q2"
   ]
  },
  {
   "cell_type": "code",
   "execution_count": 4,
   "metadata": {},
   "outputs": [
    {
     "data": {
      "text/plain": [
       "10114"
      ]
     },
     "execution_count": 4,
     "metadata": {},
     "output_type": "execute_result"
    }
   ],
   "source": [
    "#Create new dataframe with only three columns and drop duplicates to get unique restaurant locations\n",
    "df_store = df[['DBA','BORO','RESTAURANT']].drop_duplicates()\n",
    "\n",
    "#Reset index numbers\n",
    "df_store = df_store.reset_index()\n",
    "\n",
    "#The length of this dataframe is the number of unique restaurants\n",
    "len(df_store)"
   ]
  },
  {
   "cell_type": "markdown",
   "metadata": {},
   "source": [
    "# Q3"
   ]
  },
  {
   "cell_type": "code",
   "execution_count": 5,
   "metadata": {},
   "outputs": [
    {
     "data": {
      "text/plain": [
       "368"
      ]
     },
     "execution_count": 5,
     "metadata": {},
     "output_type": "execute_result"
    }
   ],
   "source": [
    "#Dictionary to store number \n",
    "chain_dt = {}\n",
    "\n",
    "#For each unique restaurant, df_chain will mask using only that restuarant name\n",
    "#If there are multiple rows (locations) then this restaurant is a chain\n",
    "\n",
    "for store in df_store['DBA'].unique():\n",
    "    df_chain = df_store[df_store['DBA'] == store]\n",
    "\n",
    "    if len(df_chain) > 1:\n",
    "        chain_dt[store] = len(df_chain)\n",
    "\n",
    "len(chain_dt)"
   ]
  },
  {
   "cell_type": "markdown",
   "metadata": {},
   "source": [
    "# Q4"
   ]
  },
  {
   "cell_type": "code",
   "execution_count": 6,
   "metadata": {},
   "outputs": [
    {
     "data": {
      "text/plain": [
       "<matplotlib.axes._subplots.AxesSubplot at 0xaa61c50>"
      ]
     },
     "execution_count": 6,
     "metadata": {},
     "output_type": "execute_result"
    },
    {
     "data": {
      "image/png": "[encoded data removed]",
      "text/plain": [
       "<Figure size 432x288 with 1 Axes>"
      ]
     },
     "metadata": {},
     "output_type": "display_data"
    }
   ],
   "source": [
    "#Convert to series and plot the top 20 largest chains\n",
    "Series(chain_dt).sort_values(ascending = False)[0:20].plot(kind='bar')"
   ]
  },
  {
   "cell_type": "markdown",
   "metadata": {},
   "source": [
    "# Q5"
   ]
  },
  {
   "cell_type": "code",
   "execution_count": 7,
   "metadata": {},
   "outputs": [
    {
     "data": {
      "text/plain": [
       "16.47221672928614"
      ]
     },
     "execution_count": 7,
     "metadata": {},
     "output_type": "execute_result"
    }
   ],
   "source": [
    "total_chains = 0\n",
    "\n",
    "#For each individual store, check if the DBA is in the chain dictionary\n",
    "#If yes then add to the counter\n",
    "\n",
    "for store in df_store['RESTAURANT']:\n",
    "    df_chain = df_store[df_store['RESTAURANT'] == store]\n",
    "    \n",
    "    name = df_chain.iloc[0]['DBA']\n",
    "    \n",
    "    if name in chain_dt.keys():\n",
    "        total_chains += 1\n",
    "\n",
    "\n",
    "total_chains/float(len(df_store)) * 100\n",
    "\n",
    "# 16.47% of all restaurants are chains"
   ]
  },
  {
   "cell_type": "markdown",
   "metadata": {},
   "source": [
    "# Q6"
   ]
  },
  {
   "cell_type": "code",
   "execution_count": 8,
   "metadata": {},
   "outputs": [
    {
     "name": "stdout",
     "output_type": "stream",
     "text": [
      "{'BRONX': 659, 'BROOKLYN': 2180, 'STATEN ISLAND': 312, 'MANHATTAN': 3323, 'QUEENS': 1968}\n"
     ]
    },
    {
     "data": {
      "text/plain": [
       "<matplotlib.axes._subplots.AxesSubplot at 0xa79c1d0>"
      ]
     },
     "execution_count": 8,
     "metadata": {},
     "output_type": "execute_result"
    },
    {
     "data": {
      "image/png": "[encoded data removed]",
      "text/plain": [
       "<Figure size 432x288 with 1 Axes>"
      ]
     },
     "metadata": {},
     "output_type": "display_data"
    }
   ],
   "source": [
    "#Dictionary to store {boroughs:number of independent restaurants}\n",
    "boro_dt = {}\n",
    "\n",
    "#For each individual store, if it is not a chain, add it to that borough's counter in the dictionary\n",
    "\n",
    "for store in df_store['RESTAURANT']:\n",
    "    df_temp = df_store[df_store['RESTAURANT'] == store]\n",
    "\n",
    "    if df_temp.iloc[0]['DBA'] not in chain_dt.keys():\n",
    "        \n",
    "        boro = df_temp.iloc[0]['BORO']        \n",
    "        if boro != 'Missing':\n",
    "            if boro in boro_dt.keys():\n",
    "                boro_dt[boro] += 1\n",
    "                \n",
    "            #If the borough is not in the dictionary yet, set the counter to 1\n",
    "            else:\n",
    "                boro_dt[boro] = 1\n",
    "        \n",
    "print boro_dt\n",
    "Series(boro_dt).sort_values(ascending = False).plot(kind='Bar')\n"
   ]
  },
  {
   "cell_type": "markdown",
   "metadata": {},
   "source": [
    "# Q7"
   ]
  },
  {
   "cell_type": "code",
   "execution_count": 9,
   "metadata": {},
   "outputs": [
    {
     "name": "stdout",
     "output_type": "stream",
     "text": [
      "               Independents  Totals  Percentages\n",
      "BRONX                   659     855     0.770760\n",
      "BROOKLYN               2180    2529     0.862001\n",
      "MANHATTAN              3323    4001     0.830542\n",
      "QUEENS                 1968    2321     0.847910\n",
      "STATEN ISLAND           312     394     0.791878\n"
     ]
    },
    {
     "data": {
      "text/plain": [
       "<matplotlib.axes._subplots.AxesSubplot at 0xab8b9e8>"
      ]
     },
     "execution_count": 9,
     "metadata": {},
     "output_type": "execute_result"
    },
    {
     "data": {
      "image/png": "[encoded data removed]",
      "text/plain": [
       "<Figure size 432x288 with 1 Axes>"
      ]
     },
     "metadata": {},
     "output_type": "display_data"
    }
   ],
   "source": [
    "#Count the total number of stores in each borough, store in a series boro_totals\n",
    "boro_totals = df_store['BORO'].value_counts()\n",
    "boro_totals = boro_totals.drop(labels ='Missing')\n",
    "\n",
    "#Create new dataframe from the dictionary in Q6 that has the counts of independent restaurants\n",
    "df_boro = DataFrame(Series(boro_dt), columns = ['Independents'])\n",
    "\n",
    "#Bring the totals in as a new column\n",
    "df_boro['Totals'] = boro_totals\n",
    "\n",
    "#Calculate percentages and show\n",
    "df_boro['Percentages'] = df_boro['Independents']/df_boro['Totals']\n",
    "\n",
    "print df_boro\n",
    "df_boro['Percentages'].sort_values(ascending = False).plot(kind='Bar')"
   ]
  },
  {
   "cell_type": "markdown",
   "metadata": {},
   "source": [
    "The borough with the most independent restaurants (Manhattan) is not the one with the highest ratio of independent restaurants (Brooklyn)."
   ]
  },
  {
   "cell_type": "markdown",
   "metadata": {},
   "source": [
    "# Q8"
   ]
  },
  {
   "cell_type": "code",
   "execution_count": 10,
   "metadata": {},
   "outputs": [
    {
     "data": {
      "text/plain": [
       "<matplotlib.axes._subplots.AxesSubplot at 0xaaf1550>"
      ]
     },
     "execution_count": 10,
     "metadata": {},
     "output_type": "execute_result"
    },
    {
     "data": {
      "image/png": "[encoded data removed]",
      "text/plain": [
       "<Figure size 432x288 with 1 Axes>"
      ]
     },
     "metadata": {},
     "output_type": "display_data"
    }
   ],
   "source": [
    "#Create new dataframe with these three columns\n",
    "df_cuisine = df[['CUISINE DESCRIPTION','RESTAURANT','VIOLATION CODE']].drop_duplicates()\n",
    "df_cuisine = df_cuisine.reset_index()\n",
    "\n",
    "#Dictionary to store {cuisine type:number of restuarants}\n",
    "cuisine_dt = {}\n",
    "\n",
    "#For each unique cuisine, count the number of individual restaurants\n",
    "for cuisine in df_cuisine['CUISINE DESCRIPTION'].unique():\n",
    "    df_temp = df_cuisine[df_cuisine['CUISINE DESCRIPTION']==cuisine]\n",
    "    cuisine_dt[cuisine] = len(df_temp['RESTAURANT'].unique())\n",
    "\n",
    "Series(cuisine_dt).sort_values(ascending = False)[0:20].plot(kind=\"Bar\")"
   ]
  },
  {
   "cell_type": "markdown",
   "metadata": {},
   "source": [
    "# Q9"
   ]
  },
  {
   "cell_type": "code",
   "execution_count": 11,
   "metadata": {},
   "outputs": [
    {
     "data": {
      "text/plain": [
       "{'162 EB CORP BAKERY 162 EAST BROADWAY 10002': 'Bakery',\n",
       " '18 BAKERY 6820 18 AVENUE 11204': 'Bakery',\n",
       " '25TH DELI 4819 25 AVENUE 11103': 'Delicatessen',\n",
       " '27 SHENG WANG NOODLE SHOP 27 ELDRIDGE STREET 10002': 'Chinese',\n",
       " '805 ZHENG YUAN BAO GOURMET 805 57 STREET 11220': 'Chinese',\n",
       " 'AGODA ASIAN CUISINE 8 MURRAY STREET 10007': 'Chinese/Japanese',\n",
       " 'ALEX CAFE & DELI 1018 LEXINGTON AVENUE 10021': 'American ',\n",
       " 'ALI BABA 183-10 HORACE HARDING EXPRESSWAY 11365': 'Mediterranean',\n",
       " 'ALNOOR HALAL DELI 710 4TH AVE 11232': 'Middle Eastern',\n",
       " 'ALTA 64 WEST   10 STREET                                                                                     10011': 'American ',\n",
       " 'AMBASSADOR DINER 730 KELLY STREET 10455': 'American ',\n",
       " \"ANGELO'S PIZZERIA & B B Q 6112 4 AVENUE                                           11220\": 'Pizza/Italian',\n",
       " 'APOLO RESTAURANT 1477 MYRTLE AVENUE 11237': 'Chinese/Cuban',\n",
       " 'ARHARN THAI CUISINE 3205 36 AVENUE 11106': 'Thai',\n",
       " 'ARIRANG USA 4104 163 STREET 11358': 'Korean',\n",
       " 'ASUKA SUSHI 300 WEST   23 STREET                                                                                     10011': 'Japanese',\n",
       " \"AUNTIE ANNE'S KIOSK 5100 KINGS PLAZA                                        11234\": 'Bagels/Pretzels',\n",
       " \"Andy's Cuisine Restaurant 1444 WILLIAMSBRIDGE RD 10461\": 'Caribbean',\n",
       " 'BAGEL CORNER 581 WEST  235 STREET 10463': 'Bagels/Pretzels',\n",
       " 'BAHAR MASALA 984 CONEY ISLAND AVENUE 11230': 'Afghan',\n",
       " 'BAMBOO REST 985 MORRIS AVENUE                                      10456': 'Spanish',\n",
       " \"BARROW'S PUB 463 HUDSON STREET 10014\": 'Irish',\n",
       " \"BARTOLINO'S RISTORANTE 34-15 BROADWAY 11106\": 'Italian',\n",
       " 'BELLE HARBOR YACHT CLUB 533 BEACH 126TH ST 11694': 'American ',\n",
       " \"BERG'N BEER HALL 899 BERGEN STREET 11238\": 'American ',\n",
       " 'BEST PIZZA ON 1ST. 1038 1 AVENUE 10022': 'Pizza',\n",
       " 'BLEND SALAD AND JUICE BAR 1310 78TH ST 11228': 'Salads',\n",
       " 'BO BO KITCHEN CHINESE RESTAURANT 1601 CORTELYOU ROAD                                     11226': 'Chinese',\n",
       " 'BOK CHOY & ROLL 4703 AVENUE N 11234': 'Asian',\n",
       " 'BOURBON COFFEE 43 WEST   14 STREET 10011': 'Caf\\xc3\\xa9/Coffee/Tea',\n",
       " 'BROOKLYN GREENERY 560 FLATBUSH AVENUE                                                                                      11225': 'Juice, Smoothies, Fruit Salads',\n",
       " 'BUBBLE CREPE 70-23 AUSTIN STREET 11375': 'Caf\\xc3\\xa9/Coffee/Tea',\n",
       " \"BUDDY'S WONDER BAR 17 HARRISON AVENUE 10302\": 'American ',\n",
       " \"BURKE'S PUB 69-47 GRAND AVENUE 11378\": 'American ',\n",
       " 'CAFE BAKERY 242 CANAL STREET 10013': 'Chinese',\n",
       " 'CAFE CON PAN BAKERY II 137 PORT RICHMOND AVENUE 10302': 'Bakery',\n",
       " 'CARITA FELIZ 218 STOCKHOLM ST 11237': 'Other',\n",
       " \"CHAN'S VILLAGE 1328 METROPOLITAN AVENUE 10462\": 'Chinese',\n",
       " 'CHEEBURGER CHEEBURGER 10850 QUEENS BOULEVARD 11375': 'Hamburgers',\n",
       " 'CHERIN SUSHI 306 EAST    6 STREET 10003': 'Japanese',\n",
       " 'CHINA STAR RESTAURANT 1784 JEROME AVENUE 10453': 'Chinese',\n",
       " 'CHINA SUN 787 LIBERTY AVENUE 11208': 'Chinese',\n",
       " 'CHOP SHOP 254 10 AVENUE                                          10001': 'Asian',\n",
       " 'CIBO EXPRESS            LAGUARDIA AIRPORT                                                                                    11369': 'Sandwiches/Salads/Mixed Buffet',\n",
       " 'CIBO EXPRESS-MAIN 0 LAGUARDIA AIRPORT 11371': 'American ',\n",
       " 'CIBO MARKET RIGHT            JFK INTERNATIONAL AIRPORT                                                                            11430': 'American ',\n",
       " 'CIMINNA CAFE 2224 HYLAN BLVD 10306': 'Italian',\n",
       " 'COMBITE CREOLE 1728 NOSTRAND AVE 11226': 'Creole',\n",
       " 'COTTO MARKET-GATE C30 0 LAGUARDIA AIRPORT 11371': 'Bakery',\n",
       " 'COUNTRY PAN FRIED CHICKEN 2841 8 AVENUE 10039': 'Soul Food',\n",
       " 'CUPOLA SAMARKANDA 1797 MCDONALD AVENUE                                    11230': 'Russian',\n",
       " 'Cannelle LIC 11-May 47 AVENUE 11101': 'Other',\n",
       " 'China Sun 1270A ST NICHOLAS AVENUE 10033': 'Chinese',\n",
       " 'DINASTIA CHINA 145 WEST   72 STREET 10023': 'Chinese',\n",
       " \"DOMINO'S PIZZA 16A        WEST    8 STREET                                   10011\": 'Pizza',\n",
       " \"DOMINO'S PIZZA 205 ALLEN STREET 10002\": 'American ',\n",
       " 'DRAGON GARDEN 3178 BAINBRIDGE AVENUE 10467': 'Chinese',\n",
       " 'DREAMERS COFFEE SHOP 1818 86 STREET 11214': 'American ',\n",
       " 'DRILL FITNESS 136 CHURCH ST 10007': 'Juice, Smoothies, Fruit Salads',\n",
       " 'DTUT 1744 2 AVENUE 10128': 'American ',\n",
       " 'DUNKIN DONUTS 64 FULTON STREET                                      10038': 'Donuts',\n",
       " 'DUNKIN DONUTS 7823 17TH AVE 11214': 'Donuts',\n",
       " 'DUNKIN DONUTS COFFEE EXPRESS 0 JFK INTERNATIONAL AIRPORT 11430': 'Caf\\xc3\\xa9/Coffee/Tea',\n",
       " \"DUNKIN' DONUTS 1610 BUSHWICK AVENUE 11207\": 'Donuts',\n",
       " \"DUNKIN' DONUTS 880 GARRISON AVENUE                                    10474\": 'Donuts',\n",
       " 'EARLY 967 MANHATTAN AVE 11222': 'Sandwiches/Salads/Mixed Buffet',\n",
       " 'EATS 1055 LEXINGTON AVENUE 10021': 'American ',\n",
       " 'EL PALO BAR RESTAURANT 3812 104TH ST 11368': 'Latin (Cuban, Dominican, Puerto Rican, South & Central American)',\n",
       " 'EL PARAISO 149 WEST   14 STREET 10011': 'Chinese',\n",
       " 'EL PATRON NIGHTCLUB CABARET-RESTAURANT 1465 JEROME AVENUE 10452': 'American ',\n",
       " 'EL POLLITO MEXICANO 119 5 AVENUE 11217': 'Mexican',\n",
       " 'EMPERADOR ELIAS RESTAURANT 274 BROADWAY 11211': 'Latin (Cuban, Dominican, Puerto Rican, South & Central American)',\n",
       " 'EMPIRE BBQ RESTAURANT 5805 8 AVENUE 11220': 'Chinese',\n",
       " 'ENDLESS SUMMER 525 DEKALB AVENUE 11205': 'Other',\n",
       " 'El BORN 651 MANHATTAN AVENUE 11222': 'Spanish',\n",
       " 'FALUCKA 162 BLEECKER STREET 10012': 'American ',\n",
       " 'FAMOUS GOURMET 4415 4 AVENUE                                           11220': 'Chinese',\n",
       " 'FATTY CUE 620 ATLANTIC AVENUE                                    11217': 'Barbecue',\n",
       " 'FEEL FOOD 52 GANSEVOORT ST 10014': 'American ',\n",
       " 'FIKA 155 7TH AVE 10011': 'Caf\\xc3\\xa9/Coffee/Tea',\n",
       " 'FLAVORS CAFE 175 WATER STREET 10038': 'American ',\n",
       " 'FRANCISCA PIZZERIA BAGEL CAFE 140 WEST    4 STREET 10012': 'Pizza',\n",
       " 'FRENCH CAFE GOURMAND 911 MAIDEN LN 10038': 'French',\n",
       " 'FRESH EXPRESS 4233 BROADWAY 10033': 'Soups & Sandwiches',\n",
       " 'FUEL FEVER 8615 18 AVENUE 11214': 'American ',\n",
       " 'FULL DOE BAKERY 5905 4 AVENUE 11220': 'Bakery',\n",
       " 'Frisson Espresso 326 W 47TH ST 10036': 'Caf\\xc3\\xa9/Coffee/Tea',\n",
       " 'GAL BI MA EUL 194-03 NORTHERN BOULEVARD 11358': 'Korean',\n",
       " \"GIGI'S PIZZERIA 2009 FRANCIS LEWIS BOULEVARD 11357\": 'Pizza',\n",
       " 'GLORIETTA BALDY 502 FRANKLIN AVENUE 11238': 'American ',\n",
       " 'GLORIOUS FOOD 522 EAST   74 STREET 10021': 'American ',\n",
       " 'GOLDEN KRUST CARRIBEAN BAKERY & GRILL 2846 CHURCH AVENUE                                      11226': 'Caribbean',\n",
       " 'GOLDEN STAR 2110 CLOVE RD 10305': 'Chinese',\n",
       " 'GOURMET K 1267 CONEY ISLAND AVE 11230': 'Jewish/Kosher',\n",
       " 'GREAT WALL KITCHEN 3915 18 AVENUE 11218': 'Chinese',\n",
       " 'GREECOLOGIES 379 BROOME ST 10013': 'Greek',\n",
       " 'GREEN APPLE GOURMET 1625 BROADWAY 10019': 'Delicatessen',\n",
       " 'GUCHUN PRIVATE KITCHEN 133-35 ROOSEVELT AVENUE 11354': 'Chinese',\n",
       " 'H & C BAKERY 7006 18 AVENUE 11204': 'Bakery',\n",
       " 'HABANA OUTPOST (Barclay Center) 620 ATLANTIC AVENUE                                    11217': 'Latin (Cuban, Dominican, Puerto Rican, South & Central American)',\n",
       " 'HAPPY WORLD RESTAURANT 1309 ST NICHOLAS AVENUE 10033': 'Chinese',\n",
       " 'HAWKERS 225 EAST   14 STREET 10003': 'Asian',\n",
       " 'HERO EXPRESS & GROCERY 64-02 MYRTLE AVENUE 11385': 'American ',\n",
       " 'HIDEAWAY 185 DUANE STREET 10013': 'American ',\n",
       " 'HILTON GARDEN INN- MANHATTAN- MIDTOWN EAST 206 EAST   52 STREET                                   10022': 'American ',\n",
       " 'HO WOK 692 ARTHUR KILL ROAD 10308': 'Chinese',\n",
       " 'HONG KONG KITCHEN 649 ALLERTON AVENUE 10467': 'Chinese',\n",
       " 'Hunt & Fish Club NYC 125 W 44TH ST 10036': 'American ',\n",
       " 'IL BACCO RISTORANTE 25324 NORTHERN BOULEVARD 11362': 'Italian',\n",
       " 'ISIS RESTAURANT 739 ALLERTON AVENUE 10467': 'Spanish',\n",
       " 'Imperial Palace 136-13 37 AVENUE 11354': 'Chinese',\n",
       " \"JASSI'S WORLD FAMOUS DELI & GROCERY 43-44      21 STREET                                          11101\": 'Delicatessen',\n",
       " 'JUKE BAR 196 2 AVENUE 10003': 'American ',\n",
       " 'JUNIORS 620 ATLANTIC AVENUE                                    11217': 'American ',\n",
       " 'JUQUILA MEXICAN CUISINE 40-12 83 STREET 11373': 'Spanish',\n",
       " 'KENTUCKY FRIED CHICKEN 1125 EAST GUN HILL ROAD 10469': 'Chicken',\n",
       " 'KING YUM RESTAURANT 181-08 UNION TURNPIKE 11366': 'Chinese',\n",
       " 'KINGSTON PIZZA 259 KINGSTON AVENUE 11213': 'Pizza',\n",
       " 'KUM GANG SAN KOREAN RESTAURANT 49 WEST   32 STREET 10001': 'Korean',\n",
       " \"L'ANGOLO PIZZA & PASTA 116-03 METROPOLITAN AVENUE 11418\": 'Pizza/Italian',\n",
       " 'LA NUEVA COCINA RESTAURANT 12 EAST KINGSBRIDGE ROAD 10468': 'Latin (Cuban, Dominican, Puerto Rican, South & Central American)',\n",
       " 'LA PENDA RESTAURANT 2233 GRAND CONCOURSE 10453': 'Latin (Cuban, Dominican, Puerto Rican, South & Central American)',\n",
       " 'LA PINELA 1278 CASTLETON AVENUE                                   10310': 'Italian',\n",
       " 'LANDSDOWNE ROAD 599 10 AVENUE 10036': 'Irish',\n",
       " 'LASSO 192 MOTT STREET 10012': 'Pizza',\n",
       " 'LE PERIGORD 405 EAST   52 STREET 10022': 'French',\n",
       " \"LEE'S RESTAURANT 1546 MYRTLE AVENUE 11237\": 'Chinese',\n",
       " \"LI'L JAYS CAFE 524 W 59TH ST 10019\": 'Caf\\xc3\\xa9/Coffee/Tea',\n",
       " 'LITTLE CAESARS 1164 BROADWAY 11221': 'Pizza',\n",
       " 'LITTLE CEASARS 715 BROADWAY 11206': 'Pizza',\n",
       " 'LITTLE SAIGON CUISINE 253-09 NORTHERN BOULEVARD 11362': 'Asian',\n",
       " 'LIVINGSTON MANOR 42 HOYT ST 11201': 'Other',\n",
       " 'LOCUS CAFE 2314 DITMARS BLVD 11105': 'Caf\\xc3\\xa9/Coffee/Tea',\n",
       " \"LOESER'S HEBREW NATIONAL 214 WEST  231 STREET 10463\": 'Delicatessen',\n",
       " 'LOKI BAR & BENCHMARK RESTAURANT 304 5 AVENUE                                           11215': 'American ',\n",
       " 'LOS TACOS LOCOS Y LONCHERIA 2 643 EAST  182 STREET 10457': 'Mexican',\n",
       " 'LOTUS 19221924 CONEY ISLAND AVENUE                                                                                  11230': 'Thai',\n",
       " 'LUCKY STAR RESTAURANT 9419 ASTORIA BOULEVARD 11369': 'Chinese',\n",
       " 'LYCHEE HOUSE 141 EAST 55 STREET 10022': 'Chinese',\n",
       " \"MANNA'S SOUL FOOD 70 WEST 125 STREET 10027\": 'Soul Food',\n",
       " 'MARAKA MINI RESTAURANT 844A SAINT ANNS AVENUE 10456': 'Spanish',\n",
       " 'MARTINIQUE CAFE 1260 BROADWAY                                           10001': 'American ',\n",
       " 'MASTER WOK 2655 RICHMOND AVENUE                                    10314': 'Chinese',\n",
       " \"MCDONALD'S 208 VARICK STREET 10014\": 'Hamburgers',\n",
       " 'MCGRAW HILL EXECUTIVE DINING 1221 AVENUE OF AMERICAS 10020': 'American ',\n",
       " 'MI PASO CENTRO AMERICANO RESTAURANT 4129 BROADWAY 10033': 'Latin (Cuban, Dominican, Puerto Rican, South & Central American)',\n",
       " 'MIA 1506 ST NICHOLAS AVENUE 10033': 'Spanish',\n",
       " \"MICHAEL'S RESTAURANT 3317 BROADWAY                                                                                             11106\": 'Continental',\n",
       " 'MIKES HINSCH 8518 5 AVENUE 11209': 'American ',\n",
       " 'MILA CAFE 694 COLUMBUS AVENUE 10025': 'Caf\\xc3\\xa9/Coffee/Tea',\n",
       " 'MONTE-CARLO NYC 181 E 78TH ST 10075': 'French',\n",
       " 'MOTIN SPICY & SWEETS 1215 LIBERTY AVENUE 11208': 'Indian',\n",
       " 'MR. POLLO #1 4220 BELL BLVD 11361': 'Latin (Cuban, Dominican, Puerto Rican, South & Central American)',\n",
       " 'NANCY WHISKEY PUB 1 LISPENARD STREET 10013': 'American ',\n",
       " 'NEPALESE INDIAN RESTAURANT 907 SENECA AVENUE 11385': 'Indian',\n",
       " 'NEW ASIA 666 AMSTERDAM AVENUE 10025': 'Chinese',\n",
       " 'NEW DOUBLE CHINESE RESTAURANT 6110 MYRTLE AVENUE 11385': 'Chinese',\n",
       " \"NEW KING'S FOOD RESTAURANT 127 MALCOLM X BOULEVARD 11221\": 'Chinese',\n",
       " 'NEW MAN DO CHINESE RESTAURANT 4023 GLENWOOD ROAD 11210': 'Chinese',\n",
       " 'NEW WAI LING CHINESE RESTAURANT/NEW FRESCO TORTILLAS II TACO 349 FLATBUSH AVENUE 11238': 'Asian',\n",
       " 'NEW WOKS KITCHEN 60-06 KISSENA BOULEVARD 11355': 'Chinese',\n",
       " 'NEW YORK SHAKE & BURGER 147-01 LIBERTY AVENUE 11435': 'American ',\n",
       " 'NEW YORK THAI GRILL  & SUSHI BAR 37 WEST   54 STREET 10019': 'Japanese',\n",
       " 'NINETY9 & UP DINER 187-44 HILLSIDE AVENUE 11432': 'Sandwiches/Salads/Mixed Buffet',\n",
       " 'NIVA NOVOTEL GIFT SHOP 226 WEST   52 STREET 10019': 'American ',\n",
       " 'NO. 1 CHINESE KITCHEN 209 PORT RICHMOND AVE 10302': 'Chinese',\n",
       " 'NO. 1 CHINESE RESTAURANT 479 RALPH AVENUE 11233': 'Chinese',\n",
       " 'NONNOS PIZZERIA RISTORANTE 22330 UNION TURNPIKE                                                                                       11364': 'Italian',\n",
       " 'NOODLE BAR 26 CARMINE STREET 10014': 'Asian',\n",
       " 'NORTH CLUB LOUNGE 620 ATLANTIC AVENUE                                    11217': 'Other',\n",
       " 'NOSTRAND DONUT SHOP 1449 NOSTRAND AVENUE 11226': 'Donuts',\n",
       " 'NUEVO HORIZONTE ( Herbalife) 3307 100TH ST 11368': 'Other',\n",
       " 'Noumura Cafe ( 5th floor Noumura Cafe) 309 WEST   49 STREET 10019': 'American ',\n",
       " \"O'BRIEN'S PUB 28 EAST KINGSBRIDGE ROAD 10468\": 'American ',\n",
       " 'OAXACA DELI AND TAQUERIA 1240 CASTLETON AVENUE                                   10310': 'Latin (Cuban, Dominican, Puerto Rican, South & Central American)',\n",
       " 'OPERA CAFE LOUNGE 2255 EMMONS AVENUE 11235': 'Turkish',\n",
       " 'OUTBACK STEAKHOUSE 355 GATEWAY DR 11239': 'American ',\n",
       " 'Ovosodo 110-60 QUEENS BOULEVARD 11375': 'Italian',\n",
       " \"P & K'S GRILL 170 WEST  231 STREET 10463\": 'American ',\n",
       " 'PANDA CHINESE RESTAURANT 19617 LINDEN BOULEVARD 11412': 'Chinese',\n",
       " 'PANYO BBQ 133-35 ROOSEVELT AVENUE 11354': 'Chinese',\n",
       " 'PARA TI COLOMBIA CON SABO 17235 HILLSIDE AVENUE 11432': 'Latin (Cuban, Dominican, Puerto Rican, South & Central American)',\n",
       " 'PARKSIDE COFFEE SHOP 188 PARKSIDE AVENUE 11226': 'American ',\n",
       " 'PARMA RESTAURANT 1404 3 AVENUE 10075': 'Italian',\n",
       " 'PHO BANG RESTAURANT 157 MOTT STREET 10013': 'Vietnamese/Cambodian/Malaysia',\n",
       " 'PHO VIET-NAM RESTAURANT 1243 AVENUE U 11229': 'Vietnamese/Cambodian/Malaysia',\n",
       " 'PICCOLA STRADA RESTAURANT 77 EAST    4 STREET 10003': 'Italian',\n",
       " \"PIES 'N' THIGHS 43 CANAL STREET                                                                                         10002\": 'American ',\n",
       " 'PIQUANT 259 FLATBUSH AVENUE 11217': 'Tex-Mex',\n",
       " 'PITA PAN 3715 30 AVENUE                                                                                            11103': 'Greek',\n",
       " 'PIZZA BAGEL BURGER 1117 MC DONALD AVENUE 11230': 'American ',\n",
       " 'PIZZA EXPRESS 2125 WHITE PLAINS ROAD                                  10462': 'Pizza',\n",
       " 'PLAZA KING COFFEE SHOP 5117 AVENUE U 11234': 'American ',\n",
       " 'POPEYES CHICKEN & BISCUITS 360 BAYCHESTER AVENUE 10475': 'Chicken',\n",
       " 'PORSENA 2123 EAST    7 STREET 10003': 'Italian',\n",
       " 'PRIVILEGE LOUNGE 140 GRAHAM AVENUE 11206': 'American ',\n",
       " 'QUEENS BUFFET 9010 ATLANTIC AVENUE 11416': 'Chinese',\n",
       " \"RANDY'S CHINESE RESTAURANT 1693 PUTNAM AVENUE                                      11385\": 'Chinese',\n",
       " 'RED SUN RESTAURANT 7108 20 AVENUE 11204': 'Chinese',\n",
       " \"ROB & TONY'S PIZZERIA 6635 GRAND AVE                                          11378\": 'Pizza/Italian',\n",
       " 'SABORES RESTAURANT & BAR 392 WOODWARD AVENUE 11385': 'Peruvian',\n",
       " 'SAKURA TERIYAKI EXPRESS 6301 8 AVENUE 11220': 'Japanese',\n",
       " \"SCOTT'S FOOD & DELI 28 WEST   48 STREET                                   10036\": 'American ',\n",
       " 'SFILATINO ITALIAN GOURMET 342 WEST   57 STREET 10019': 'Italian',\n",
       " 'SILK ROAD CAFE 30 MOTT STREET 10013': 'Caf\\xc3\\xa9/Coffee/Tea',\n",
       " 'SING WEN RESTAURANT 7204 18 AVENUE 11204': 'Chinese',\n",
       " 'SKAL RESTAURANT 37 CANAL STREET 10002': 'American ',\n",
       " 'SOFT SPOT 128 BEDFORD AVENUE 11249': 'American ',\n",
       " 'STARBUCKS COFFEE #22596 154 N 7TH ST 11249': 'Caf\\xc3\\xa9/Coffee/Tea',\n",
       " 'STARBUCKS COFFEE #23267 1608 SHORE PKWY SOUTH 11214': 'Caf\\xc3\\xa9/Coffee/Tea',\n",
       " 'STARBUCKS COFFEE 395 FLATBUSH AVENUE 11238': 'Caf\\xc3\\xa9/Coffee/Tea',\n",
       " 'STROKOS GOURMET DELI 1090 AMSTERDAM AVE 10025': 'Delicatessen',\n",
       " 'SUBWAY 2200 RICHMOND AVENUE 10314': 'Sandwiches',\n",
       " 'SUBWAY 3927 BELL BOULEVARD                                                                                       11361': 'Sandwiches',\n",
       " 'SUBWAY 882 5 AVENUE 11232': 'Sandwiches',\n",
       " 'SUGAR CAFE 500 WEST  145 STREET                                   10031': 'Spanish',\n",
       " 'SUSHI DOJO 110 1 AVENUE 10009': 'Japanese',\n",
       " 'SWEET  GENERATION 130 1ST AVE 10009': 'Bakery',\n",
       " 'SZECHUAN GOURMET 21 WEST   39 STREET 10018': 'Chinese',\n",
       " 'SZECHUAN KITCHEN 112-02 SPRINGFIELD BOULEVARD 11429': 'Chinese',\n",
       " 'T & R PIZZA 411 AMSTERDAM AVENUE 10024': 'Pizza',\n",
       " 'TACO BELL 961 E 174TH ST 10460': 'Tex-Mex',\n",
       " 'THAI ELEPHANT RESTAURANT 21-09 31 STREET 11105': 'Thai',\n",
       " \"THE FAMOUS JIMBO'S HAMBURGER PALACE 1977 JEROME AVE 10453\": 'Hamburgers',\n",
       " 'THE NIPPON CLUB 145 WEST   57 STREET 10019': 'Japanese',\n",
       " 'THE RESTAURANT 8605 ROCKAWAY BEACH BOULEVARD 11693': 'American ',\n",
       " 'THE TAP ROOM 1 WEST   54 STREET 10019': 'American ',\n",
       " 'TIRANA SOCCER CLUB MEMBERS ONLY LLC 775 WOODWARD AVENUE 11385': 'Caf\\xc3\\xa9/Coffee/Tea',\n",
       " 'TOMOE SUSHI 172 THOMPSON STREET 10012': 'Japanese',\n",
       " 'TOMS PIZZA 104-10 JAMAICA AVENUE 11418': 'Pizza',\n",
       " 'TRIPLE A DINER 2061 2 AVENUE 10029': 'American ',\n",
       " 'TRUE COLORS BAR 79-15 ROOSEVELT AVENUE 11372': 'Latin (Cuban, Dominican, Puerto Rican, South & Central American)',\n",
       " 'UNA NUEVA ESPERANZA/ HERBALIFE 749 BURKE AVENUE 10467': 'Spanish',\n",
       " 'UNCLE WANG CHINESE FOOD 5723 8TH AVE 11220': 'Chinese',\n",
       " 'VERA CRUZ 195 BEDFORD AVENUE 11211': 'Mexican',\n",
       " 'WARREN HALL COFFEE BAR 1125 AMSTERDAM AVENUE 10025': 'Caf\\xc3\\xa9/Coffee/Tea',\n",
       " 'WAZA SUSHI 485 MYRTLE AVENUE 11205': 'Japanese',\n",
       " 'WD-50 50 CLINTON STREET                                                                                       11201': 'American ',\n",
       " 'WINEGASM 3186 37 STREET 11103': 'French',\n",
       " 'Yang Yang Noodle 133-35 ROOSEVELT AVENUE 11354': 'Chinese',\n",
       " 'ZOOB ZIB THAI NOODLE / AURA 460462 9TH AVE 10018': 'Thai'}"
      ]
     },
     "execution_count": 11,
     "metadata": {},
     "output_type": "execute_result"
    }
   ],
   "source": [
    "#Dictionary to store {a clean restaurant:its cuisine type}\n",
    "clean_store = {}\n",
    "\n",
    "#Keeps track of number of violations for each restaurant location\n",
    "violation_counter = 0\n",
    "\n",
    "#For each individual restaurant, mask and count how many violation codes are not null\n",
    "#If the restaurant never had a violation, enter it in the dictionary\n",
    "for store in df_cuisine['RESTAURANT'].unique():\n",
    "    df_clean = df_cuisine[df_cuisine['RESTAURANT'] == store]\n",
    "    \n",
    "    violation_counter = sum(df_clean['VIOLATION CODE'].notnull())\n",
    "\n",
    "    if violation_counter == 0:\n",
    "           clean_store[df_clean.iloc[0]['RESTAURANT']] = df_clean.iloc[0]['CUISINE DESCRIPTION']\n",
    "\n",
    "clean_store\n"
   ]
  },
  {
   "cell_type": "code",
   "execution_count": 12,
   "metadata": {},
   "outputs": [
    {
     "data": {
      "text/plain": [
       "<matplotlib.axes._subplots.AxesSubplot at 0xac02e10>"
      ]
     },
     "execution_count": 12,
     "metadata": {},
     "output_type": "execute_result"
    },
    {
     "data": {
      "image/png": "[encoded data removed]",
      "text/plain": [
       "<Figure size 432x288 with 1 Axes>"
      ]
     },
     "metadata": {},
     "output_type": "display_data"
    }
   ],
   "source": [
    "#Dictionary to store {cuisine:number of clean restuarants}\n",
    "clean_cuisine = {}\n",
    "\n",
    "#For each unique cuisine, add up the restaurants and keep count in the dictionary\n",
    "for cuisine in Series(clean_store).unique():\n",
    "    for store in clean_store.keys():\n",
    "        if clean_store[store] == cuisine:\n",
    "            if cuisine in clean_cuisine.keys():\n",
    "                clean_cuisine[cuisine] += 1\n",
    "            else: clean_cuisine[cuisine] = 1\n",
    "        \n",
    "Series(clean_cuisine).sort_values(ascending=False)[0:20].plot(kind='Bar')"
   ]
  },
  {
   "cell_type": "markdown",
   "metadata": {},
   "source": [
    "# Q10"
   ]
  },
  {
   "cell_type": "code",
   "execution_count": 13,
   "metadata": {},
   "outputs": [
    {
     "name": "stdout",
     "output_type": "stream",
     "text": [
      "Soul Food                        9.090909\n",
      "Vietnamese/Cambodian/Malaysia    6.250000\n",
      "Other                            5.825243\n",
      "Continental                      4.761905\n",
      "Barbecue                         4.761905\n",
      "Soups & Sandwiches               4.761905\n",
      "Asian                            4.109589\n",
      "Chinese                          3.825137\n",
      "Greek                            3.636364\n",
      "Peruvian                         3.571429\n",
      "dtype: float64\n"
     ]
    }
   ],
   "source": [
    "#Dictionary to store percentage of clean restaurants for each cuisine\n",
    "clean_ratios = {}\n",
    "\n",
    "#For each cuisine, calculate percentage of clean restaurants using info from Q9\n",
    "for cuisine in cuisine_dt.keys():\n",
    "    if cuisine_dt[cuisine] >= 20:\n",
    "        if cuisine in clean_cuisine.keys():\n",
    "            clean_ratio = float(clean_cuisine[cuisine])/cuisine_dt[cuisine]*100\n",
    "            clean_ratios[cuisine] = clean_ratio\n",
    "        else: clean_ratios[cuisine] = 0\n",
    "            \n",
    "print Series(clean_ratios).sort_values(ascending = False)[0:10]"
   ]
  },
  {
   "cell_type": "markdown",
   "metadata": {},
   "source": [
    "# Q11"
   ]
  },
  {
   "cell_type": "code",
   "execution_count": 14,
   "metadata": {},
   "outputs": [
    {
     "data": {
      "text/plain": [
       "BORO\n",
       "BRONX            Non-food contact surface improperly constructe...\n",
       "BROOKLYN         Non-food contact surface improperly constructe...\n",
       "MANHATTAN        Non-food contact surface improperly constructe...\n",
       "QUEENS           Non-food contact surface improperly constructe...\n",
       "STATEN ISLAND    Non-food contact surface improperly constructe...\n",
       "dtype: object"
      ]
     },
     "execution_count": 14,
     "metadata": {},
     "output_type": "execute_result"
    }
   ],
   "source": [
    "#New dataframe with only these two columns\n",
    "df_viola = df[['VIOLATION DESCRIPTION', 'BORO']]\n",
    "\n",
    "#Remove rows where BORO is missing\n",
    "df_viola = df_viola[df_viola['BORO']!='Missing']\n",
    "\n",
    "#Create cross tab\n",
    "v_table = pd.crosstab(df_viola['VIOLATION DESCRIPTION'], df_viola['BORO'])\n",
    "v_table.idxmax()\n",
    "\n",
    "#All boroughs seem to have the same most common violation"
   ]
  },
  {
   "cell_type": "markdown",
   "metadata": {},
   "source": [
    "# Q12"
   ]
  },
  {
   "cell_type": "code",
   "execution_count": 15,
   "metadata": {},
   "outputs": [
    {
     "data": {
      "text/plain": [
       "BORO\n",
       "BRONX                                  Unprotected food re-served.\n",
       "BROOKLYN         Precooked potentially hazardous food from comm...\n",
       "MANHATTAN        Out-of package sale of tobacco products observed.\n",
       "QUEENS           Caloric content range (minimum to maximum) not...\n",
       "STATEN ISLAND    Eggs found dirty/cracked; liquid, frozen or po...\n",
       "dtype: object"
      ]
     },
     "execution_count": 15,
     "metadata": {},
     "output_type": "execute_result"
    }
   ],
   "source": [
    "#Series to store frequency of each violation\n",
    "df_violationFrequency = df['VIOLATION DESCRIPTION'].value_counts()\n",
    "\n",
    "#Function inputs: frequency of violation, violation decription, frequency series\n",
    "#Function output: frequency as a percentage of total violation frequency\n",
    "def normalize(f,violation, dfvf):\n",
    "    return f/ float(dfvf.loc[violation])\n",
    "\n",
    "#For each cell, apply the function\n",
    "for boro in v_table.columns:\n",
    "    for v in v_table.index.values:\n",
    "        v_table.loc[v,boro] = normalize(v_table.loc[v,boro], v, df_violationFrequency)\n",
    "        \n",
    "v_table.idxmax()"
   ]
  },
  {
   "cell_type": "markdown",
   "metadata": {},
   "source": [
    "# Q13"
   ]
  },
  {
   "cell_type": "code",
   "execution_count": 16,
   "metadata": {},
   "outputs": [
    {
     "data": {
      "text/plain": [
       "34"
      ]
     },
     "execution_count": 16,
     "metadata": {},
     "output_type": "execute_result"
    }
   ],
   "source": [
    "#Function to get the first 3 characters in a string\n",
    "def getac(num):\n",
    "    return num[:3]\n",
    "\n",
    "#Map that function to all phone numbers\n",
    "df['AREA CODE'] = df['PHONE'].map(getac)\n",
    "\n",
    "#Counter for single zip codes\n",
    "singlezip_count = 0\n",
    "\n",
    "#Mask on each area code and check if there are multiple zip codes\n",
    "for areacode in df['AREA CODE'].unique():\n",
    "    df_area = df[df['AREA CODE']==areacode]\n",
    "    \n",
    "    if len(df_area['ZIPCODE'].unique()) == 1:\n",
    "        singlezip_count += 1\n",
    "    \n",
    "singlezip_count"
   ]
  },
  {
   "cell_type": "markdown",
   "metadata": {},
   "source": [
    "# Q14"
   ]
  },
  {
   "cell_type": "code",
   "execution_count": 17,
   "metadata": {},
   "outputs": [],
   "source": [
    "#Return last word in string\n",
    "def street_type(s):\n",
    "    return s.split()[-1]\n",
    "\n",
    "#Return all but the last word in string, as a string\n",
    "def street_base(s):\n",
    "    base_list = s.split()[:-1]\n",
    "    base = ''    \n",
    "    for word in base_list:\n",
    "        base += word + ' '\n",
    "    base = base.rstrip()\n",
    "    return base\n"
   ]
  },
  {
   "cell_type": "code",
   "execution_count": 18,
   "metadata": {},
   "outputs": [
    {
     "name": "stdout",
     "output_type": "stream",
     "text": [
      "STREET TYPE_2\n",
      "AVE         AVENUE\n",
      "ST          STREET\n",
      "RD            ROAD\n",
      "PL           PLACE\n",
      "BOULEARD      BLVD\n",
      "BULEVARD      BLVD\n",
      "dtype: object\n"
     ]
    }
   ],
   "source": [
    "#Create columns\n",
    "df['STREET BASE'] = df['STREET'].map(street_base)\n",
    "df['STREET TYPE'] = df['STREET'].map(street_type)\n",
    "df['STREET BASE & ZIP'] = df['STREET BASE'] + ' ' + df['ZIPCODE']\n",
    "\n",
    "#Create new dataframe\n",
    "df_street = df[['STREET BASE', 'STREET TYPE', 'STREET BASE & ZIP']].drop_duplicates()\n",
    "\n",
    "#Remove blank street base values\n",
    "df_street = df_street[df_street['STREET BASE']!='']\n",
    "\n",
    "#Merge on itself so misspellings show up double\n",
    "df_smerge = df_street.merge(df_street,\n",
    "                           left_on = 'STREET BASE & ZIP' ,\n",
    "                           right_on = 'STREET BASE & ZIP' , \n",
    "                           suffixes = ['_1', '_2'])\n",
    "\n",
    "#Mask to only show where there are mismatches\n",
    "df_misspell =  df_smerge[df_smerge['STREET TYPE_1'] != df_smerge['STREET TYPE_2']]\n",
    "\n",
    "#Cross tab shows sums of mismatches\n",
    "df_streetcross = pd.crosstab(df_misspell['STREET TYPE_1'], df_misspell['STREET TYPE_2'])\n",
    "\n",
    "print df_streetcross[['AVE', 'ST', 'RD', 'PL', 'BOULEARD','BULEVARD']].idxmax()\n"
   ]
  }
 ],
 "metadata": {
  "kernelspec": {
   "display_name": "Python 2",
   "language": "python",
   "name": "python2"
  },
  "language_info": {
   "codemirror_mode": {
    "name": "ipython",
    "version": 2
   },
   "file_extension": ".py",
   "mimetype": "text/x-python",
   "name": "python",
   "nbconvert_exporter": "python",
   "pygments_lexer": "ipython2",
   "version": "2.7.15"
  }
 },
 "nbformat": 4,
 "nbformat_minor": 2
}
